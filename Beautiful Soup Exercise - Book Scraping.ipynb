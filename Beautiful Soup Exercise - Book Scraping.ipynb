{
 "cells": [
  {
   "cell_type": "markdown",
   "id": "cb91c6f9",
   "metadata": {},
   "source": [
    "# Beautiful Soup Exercise - Book Scraping"
   ]
  },
  {
   "cell_type": "code",
   "execution_count": 1,
   "id": "a5d58fc3",
   "metadata": {},
   "outputs": [],
   "source": [
    "import requests\n",
    "from bs4 import BeautifulSoup"
   ]
  },
  {
   "cell_type": "code",
   "execution_count": 2,
   "id": "2798e4e2",
   "metadata": {},
   "outputs": [],
   "source": [
    "soup = []\n",
    "# Gets all 1000 books\n",
    "try: \n",
    "    for number in range(1,50):\n",
    "        url = f'http://books.toscrape.com/catalogue/page-{number}.html'\n",
    "\n",
    "        html = requests.get(url).text\n",
    "\n",
    "        soup.append(BeautifulSoup(html,\"html.parser\"))\n",
    "except:\n",
    "    print(\"No soup today :( \")"
   ]
  },
  {
   "cell_type": "code",
   "execution_count": 3,
   "id": "1c6475f5",
   "metadata": {},
   "outputs": [],
   "source": [
    "# Gets all 1000 books\n",
    "book_list = []\n",
    "\n",
    "try:\n",
    "    for i in soup:\n",
    "\n",
    "        # Creates list of each book's html code\n",
    "        items_list = i.find_all('article')\n",
    "\n",
    "        for item in items_list:\n",
    "\n",
    "            # Checks to see if the item is in stock before adding it to the list\n",
    "            item_contents = item.find('p',attrs = {\"class\": \"instock availability\"}).contents\n",
    "            item_contents_clean = item_contents[2].splitlines()\n",
    "            available = item_contents_clean[2].lstrip()\n",
    "\n",
    "            if available != 'In stock':\n",
    "                continue\n",
    "            else:\n",
    "                # Create a dictionary to add to the book list if the book is in stock\n",
    "                book_info = {}\n",
    "                book_info[\"title\"] = item.find(\"h3\").find(\"a\").attrs[\"title\"]\n",
    "                book_info[\"price\"] = item.find('p', attrs = {'class': 'price_color'}).text[1:]\n",
    "                book_info[\"rating\"] = item.find('p').attrs['class'][1]\n",
    "                book_list.append(book_info)\n",
    "except:\n",
    "    print(\"No soup  today :( \")"
   ]
  },
  {
   "cell_type": "code",
   "execution_count": 4,
   "id": "b2662e25",
   "metadata": {
    "scrolled": true
   },
   "outputs": [
    {
     "name": "stdout",
     "output_type": "stream",
     "text": [
      "[{'title': 'A Light in the Attic', 'price': '£51.77', 'rating': 'Three'}, {'title': 'Tipping the Velvet', 'price': '£53.74', 'rating': 'One'}, {'title': 'Soumission', 'price': '£50.10', 'rating': 'One'}, {'title': 'Sharp Objects', 'price': '£47.82', 'rating': 'Four'}, {'title': 'Sapiens: A Brief History of Humankind', 'price': '£54.23', 'rating': 'Five'}, {'title': 'The Requiem Red', 'price': '£22.65', 'rating': 'One'}, {'title': 'The Dirty Little Secrets of Getting Your Dream Job', 'price': '£33.34', 'rating': 'Four'}, {'title': 'The Coming Woman: A Novel Based on the Life of the Infamous Feminist, Victoria Woodhull', 'price': '£17.93', 'rating': 'Three'}, {'title': 'The Boys in the Boat: Nine Americans and Their Epic Quest for Gold at the 1936 Berlin Olympics', 'price': '£22.60', 'rating': 'Four'}, {'title': 'The Black Maria', 'price': '£52.15', 'rating': 'One'}, {'title': 'Starving Hearts (Triangular Trade Trilogy, #1)', 'price': '£13.99', 'rating': 'Two'}, {'title': \"Shakespeare's Sonnets\", 'price': '£20.66', 'rating': 'Four'}, {'title': 'Set Me Free', 'price': '£17.46', 'rating': 'Five'}, {'title': \"Scott Pilgrim's Precious Little Life (Scott Pilgrim #1)\", 'price': '£52.29', 'rating': 'Five'}, {'title': 'Rip it Up and Start Again', 'price': '£35.02', 'rating': 'Five'}, {'title': 'Our Band Could Be Your Life: Scenes from the American Indie Underground, 1981-1991', 'price': '£57.25', 'rating': 'Three'}, {'title': 'Olio', 'price': '£23.88', 'rating': 'One'}, {'title': 'Mesaerion: The Best Science Fiction Stories 1800-1849', 'price': '£37.59', 'rating': 'One'}, {'title': 'Libertarianism for Beginners', 'price': '£51.33', 'rating': 'Two'}, {'title': \"It's Only the Himalayas\", 'price': '£45.17', 'rating': 'Two'}, {'title': 'In Her Wake', 'price': '£12.84', 'rating': 'One'}, {'title': 'How Music Works', 'price': '£37.32', 'rating': 'Two'}, {'title': 'Foolproof Preserving: A Guide to Small Batch Jams, Jellies, Pickles, Condiments, and More: A Foolproof Guide to Making Small Batch Jams, Jellies, Pickles, Condiments, and More', 'price': '£30.52', 'rating': 'Three'}, {'title': 'Chase Me (Paris Nights #2)', 'price': '£25.27', 'rating': 'Five'}, {'title': 'Black Dust', 'price': '£34.53', 'rating': 'Five'}, {'title': 'Birdsong: A Story in Pictures', 'price': '£54.64', 'rating': 'Three'}, {'title': \"America's Cradle of Quarterbacks: Western Pennsylvania's Football Factory from Johnny Unitas to Joe Montana\", 'price': '£22.50', 'rating': 'Three'}, {'title': 'Aladdin and His Wonderful Lamp', 'price': '£53.13', 'rating': 'Three'}, {'title': 'Worlds Elsewhere: Journeys Around Shakespeareâ\\x80\\x99s Globe', 'price': '£40.30', 'rating': 'Five'}, {'title': 'Wall and Piece', 'price': '£44.18', 'rating': 'Four'}, {'title': 'The Four Agreements: A Practical Guide to Personal Freedom', 'price': '£17.66', 'rating': 'Five'}, {'title': 'The Five Love Languages: How to Express Heartfelt Commitment to Your Mate', 'price': '£31.05', 'rating': 'Three'}, {'title': 'The Elephant Tree', 'price': '£23.82', 'rating': 'Five'}, {'title': 'The Bear and the Piano', 'price': '£36.89', 'rating': 'One'}, {'title': \"Sophie's World\", 'price': '£15.94', 'rating': 'Five'}, {'title': 'Penny Maybe', 'price': '£33.29', 'rating': 'Three'}, {'title': 'Maude (1883-1993):She Grew Up with the country', 'price': '£18.02', 'rating': 'Two'}, {'title': 'In a Dark, Dark Wood', 'price': '£19.63', 'rating': 'One'}, {'title': 'Behind Closed Doors', 'price': '£52.22', 'rating': 'Four'}, {'title': \"You can't bury them all: Poems\", 'price': '£33.63', 'rating': 'Two'}, {'title': 'Slow States of Collapse: Poems', 'price': '£57.31', 'rating': 'Three'}, {'title': 'Reasons to Stay Alive', 'price': '£26.41', 'rating': 'Two'}, {'title': 'Private Paris (Private #10)', 'price': '£47.61', 'rating': 'Five'}, {'title': '#HigherSelfie: Wake Up Your Life. Free Your Soul. Find Your Tribe.', 'price': '£23.11', 'rating': 'Five'}, {'title': 'Without Borders (Wanderlove #1)', 'price': '£45.07', 'rating': 'Two'}, {'title': 'When We Collided', 'price': '£31.77', 'rating': 'One'}, {'title': 'We Love You, Charlie Freeman', 'price': '£50.27', 'rating': 'Five'}, {'title': 'Untitled Collection: Sabbath Poems 2014', 'price': '£14.27', 'rating': 'Four'}, {'title': 'Unseen City: The Majesty of Pigeons, the Discreet Charm of Snails & Other Wonders of the Urban Wilderness', 'price': '£44.18', 'rating': 'Four'}, {'title': 'Unicorn Tracks', 'price': '£18.78', 'rating': 'Three'}, {'title': 'Unbound: How Eight Technologies Made Us Human, Transformed Society, and Brought Our World to the Brink', 'price': '£25.52', 'rating': 'One'}, {'title': 'Tsubasa: WoRLD CHRoNiCLE 2 (Tsubasa WoRLD CHRoNiCLE #2)', 'price': '£16.28', 'rating': 'One'}, {'title': 'Throwing Rocks at the Google Bus: How Growth Became the Enemy of Prosperity', 'price': '£31.12', 'rating': 'Three'}, {'title': 'This One Summer', 'price': '£19.49', 'rating': 'Four'}, {'title': 'Thirst', 'price': '£17.27', 'rating': 'Five'}, {'title': 'The Torch Is Passed: A Harding Family Story', 'price': '£19.09', 'rating': 'One'}, {'title': 'The Secret of Dreadwillow Carse', 'price': '£56.13', 'rating': 'One'}, {'title': 'The Pioneer Woman Cooks: Dinnertime: Comfort Classics, Freezer Food, 16-Minute Meals, and Other Delicious Ways to Solve Supper!', 'price': '£56.41', 'rating': 'One'}, {'title': 'The Past Never Ends', 'price': '£56.50', 'rating': 'Four'}, {'title': 'The Natural History of Us (The Fine Art of Pretending #2)', 'price': '£45.22', 'rating': 'Three'}, {'title': 'The Nameless City (The Nameless City #1)', 'price': '£38.16', 'rating': 'Four'}, {'title': 'The Murder That Never Was (Forensic Instincts #5)', 'price': '£54.11', 'rating': 'Three'}, {'title': \"The Most Perfect Thing: Inside (and Outside) a Bird's Egg\", 'price': '£42.96', 'rating': 'Four'}, {'title': 'The Mindfulness and Acceptance Workbook for Anxiety: A Guide to Breaking Free from Anxiety, Phobias, and Worry Using Acceptance and Commitment Therapy', 'price': '£23.89', 'rating': 'Four'}, {'title': 'The Life-Changing Magic of Tidying Up: The Japanese Art of Decluttering and Organizing', 'price': '£16.77', 'rating': 'Three'}, {'title': 'The Inefficiency Assassin: Time Management Tactics for Working Smarter, Not Longer', 'price': '£20.59', 'rating': 'Five'}, {'title': 'The Gutsy Girl: Escapades for Your Life of Epic Adventure', 'price': '£37.13', 'rating': 'One'}, {'title': 'The Electric Pencil: Drawings from Inside State Hospital No. 3', 'price': '£56.06', 'rating': 'One'}, {'title': 'The Death of Humanity: and the Case for Life', 'price': '£58.11', 'rating': 'Four'}, {'title': 'The Bulletproof Diet: Lose up to a Pound a Day, Reclaim Energy and Focus, Upgrade Your Life', 'price': '£49.05', 'rating': 'Three'}, {'title': 'The Art Forger', 'price': '£40.76', 'rating': 'Three'}, {'title': 'The Age of Genius: The Seventeenth Century and the Birth of the Modern Mind', 'price': '£19.73', 'rating': 'One'}, {'title': \"The Activist's Tao Te Ching: Ancient Advice for a Modern Revolution\", 'price': '£32.24', 'rating': 'Five'}, {'title': 'Spark Joy: An Illustrated Master Class on the Art of Organizing and Tidying Up', 'price': '£41.83', 'rating': 'Four'}, {'title': 'Soul Reader', 'price': '£39.58', 'rating': 'Two'}, {'title': 'Security', 'price': '£39.25', 'rating': 'Two'}, {'title': 'Saga, Volume 6 (Saga (Collected Editions) #6)', 'price': '£25.02', 'rating': 'Three'}, {'title': 'Saga, Volume 5 (Saga (Collected Editions) #5)', 'price': '£51.04', 'rating': 'Two'}, {'title': 'Reskilling America: Learning to Labor in the Twenty-First Century', 'price': '£19.83', 'rating': 'Two'}, {'title': 'Rat Queens, Vol. 3: Demons (Rat Queens (Collected Editions) #11-15)', 'price': '£50.40', 'rating': 'Three'}, {'title': 'Princess Jellyfish 2-in-1 Omnibus, Vol. 01 (Princess Jellyfish 2-in-1 Omnibus #1)', 'price': '£13.61', 'rating': 'Five'}, {'title': 'Princess Between Worlds (Wide-Awake Princess #5)', 'price': '£13.34', 'rating': 'Five'}, {'title': 'Pop Gun War, Volume 1: Gift', 'price': '£18.97', 'rating': 'One'}, {'title': 'Political Suicide: Missteps, Peccadilloes, Bad Calls, Backroom Hijinx, Sordid Pasts, Rotten Breaks, and Just Plain Dumb Mistakes in the Annals of American Politics', 'price': '£36.28', 'rating': 'Two'}, {'title': 'Patience', 'price': '£10.16', 'rating': 'Three'}, {'title': 'Outcast, Vol. 1: A Darkness Surrounds Him (Outcast #1)', 'price': '£15.44', 'rating': 'Four'}, {'title': 'orange: The Complete Collection 1 (orange: The Complete Collection #1)', 'price': '£48.41', 'rating': 'One'}, {'title': 'Online Marketing for Busy Authors: A Step-By-Step Guide', 'price': '£46.35', 'rating': 'One'}, {'title': 'On a Midnight Clear', 'price': '£14.07', 'rating': 'Three'}, {'title': 'Obsidian (Lux #1)', 'price': '£14.86', 'rating': 'Two'}, {'title': 'My Paris Kitchen: Recipes and Stories', 'price': '£33.37', 'rating': 'Two'}, {'title': 'Masks and Shadows', 'price': '£56.40', 'rating': 'Two'}, {'title': 'Mama Tried: Traditional Italian Cooking for the Screwed, Crude, Vegan, and Tattooed', 'price': '£14.02', 'rating': 'Four'}, {'title': 'Lumberjanes, Vol. 2: Friendship to the Max (Lumberjanes #5-8)', 'price': '£46.91', 'rating': 'Two'}, {'title': 'Lumberjanes, Vol. 1: Beware the Kitten Holy (Lumberjanes #1-4)', 'price': '£45.61', 'rating': 'Three'}, {'title': 'Lumberjanes Vol. 3: A Terrible Plan (Lumberjanes #9-12)', 'price': '£19.92', 'rating': 'Two'}, {'title': 'Layered: Baking, Building, and Styling Spectacular Cakes', 'price': '£40.11', 'rating': 'One'}, {'title': 'Judo: Seven Steps to Black Belt (an Introductory Guide for Beginners)', 'price': '£53.90', 'rating': 'Two'}, {'title': 'Join', 'price': '£35.67', 'rating': 'Five'}, {'title': 'In the Country We Love: My Family Divided', 'price': '£22.00', 'rating': 'Four'}]\n"
     ]
    }
   ],
   "source": [
    "print(book_list[0:100])"
   ]
  },
  {
   "cell_type": "markdown",
   "id": "c92be0aa",
   "metadata": {},
   "source": [
    "I did it :D! Now let's convert this list into a CSV file."
   ]
  },
  {
   "cell_type": "code",
   "execution_count": 5,
   "id": "a4b83822",
   "metadata": {},
   "outputs": [],
   "source": [
    "with open('BS4_books_list.csv','wt',encoding='utf-8') as books:\n",
    "    for i in book_list:\n",
    "        books.write(str(i)+\";\")"
   ]
  },
  {
   "cell_type": "code",
   "execution_count": null,
   "id": "193415cc",
   "metadata": {},
   "outputs": [],
   "source": []
  }
 ],
 "metadata": {
  "kernelspec": {
   "display_name": "Python 3 (ipykernel)",
   "language": "python",
   "name": "python3"
  },
  "language_info": {
   "codemirror_mode": {
    "name": "ipython",
    "version": 3
   },
   "file_extension": ".py",
   "mimetype": "text/x-python",
   "name": "python",
   "nbconvert_exporter": "python",
   "pygments_lexer": "ipython3",
   "version": "3.8.5"
  }
 },
 "nbformat": 4,
 "nbformat_minor": 5
}
